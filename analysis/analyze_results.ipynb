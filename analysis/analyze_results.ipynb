{
 "cells": [
  {
   "cell_type": "code",
   "execution_count": 1,
   "metadata": {
    "ExecuteTime": {
     "end_time": "2021-09-09T17:25:13.065441Z",
     "start_time": "2021-09-09T17:25:12.832569Z"
    }
   },
   "outputs": [],
   "source": [
    "import os \n",
    "from os.path import join, dirname\n",
    "import pickle\n",
    "import pandas as pd\n",
    "import numpy as np\n",
    "\n",
    "from tqdm import tqdm \n",
    "\n",
    "import sys\n",
    "sys.path.append(dirname(os.getcwd()))\n",
    "\n",
    "pd.set_option('max_colwidth', 100) "
   ]
  },
  {
   "cell_type": "code",
   "execution_count": 2,
   "metadata": {
    "ExecuteTime": {
     "end_time": "2021-09-09T17:25:13.107133Z",
     "start_time": "2021-09-09T17:25:13.094585Z"
    }
   },
   "outputs": [],
   "source": [
    "'''Utility functions for computing results statistics'''\n",
    "def ybar0_cnd_y1(cmat):  \n",
    "    return (cmat[1][0]/(cmat[1][0] + cmat[1][1]))\n",
    "def ybar1_cnd_y0(cmat): \n",
    "    return (cmat[0][1]/(cmat[0][1] + cmat[0][0]))\n",
    "\n",
    "def ybar1(cmat):\n",
    "    return (cmat[0][1] + cmat[1][1]) / (cmat[0][0] + cmat[0][1] + cmat[1][0] + cmat[1][1])\n",
    "\n",
    "def false_neg(raw):\n",
    "    return abs(ybar0_cnd_y1(raw['sa_0']['ood'][0]) - ybar0_cnd_y1(raw['sa_1']['ood'][0])) * 100\n",
    "\n",
    "def false_pos(raw):\n",
    "    return abs(ybar1_cnd_y0(raw['sa_0']['ood'][0]) - ybar1_cnd_y0(raw['sa_1']['ood'][0])) * 100\n",
    "\n",
    "def pos_pred(raw):\n",
    "    return abs(ybar1(raw['sa_0']['ood'][0]) - ybar1(raw['sa_1']['ood'][0])) * 100\n",
    "\n",
    "# In future replace 'test' with 'ood' "
   ]
  },
  {
   "cell_type": "code",
   "execution_count": 3,
   "metadata": {
    "ExecuteTime": {
     "end_time": "2021-09-09T17:25:13.246190Z",
     "start_time": "2021-09-09T17:25:13.240206Z"
    }
   },
   "outputs": [],
   "source": [
    "def gen_final_table(df, ind_cols, res_cols, reindex={}):\n",
    "    '''df = the final dataframe to be analyzed\n",
    "       reindex= dict of {col_name, order}'''\n",
    "    \n",
    "    #Reorder stuff for the groupby \n",
    "    for c, order in reindex.items(): \n",
    "        category = pd.api.types.CategoricalDtype(categories=order, ordered=True)\n",
    "        df[c] = df[c].astype(category)\n",
    "    \n",
    "    df_mean = df.groupby(ind_cols)[res_cols].mean()\n",
    "    df_std = df.groupby(ind_cols)[res_cols].std()\n",
    "    df_full = df_mean.applymap(lambda x: \"{0:01.1f}\".format(x)) + df_std.applymap(lambda x: '  {}  '.format('- ') +\"{0:01.1f}\".format(x))\n",
    "    \n",
    "    return df_full\n"
   ]
  },
  {
   "cell_type": "markdown",
   "metadata": {},
   "source": [
    "# Load Results  "
   ]
  },
  {
   "cell_type": "code",
   "execution_count": 14,
   "metadata": {
    "ExecuteTime": {
     "end_time": "2021-09-09T17:31:08.766756Z",
     "start_time": "2021-09-09T17:31:08.646600Z"
    },
    "scrolled": true
   },
   "outputs": [
    {
     "name": "stderr",
     "output_type": "stream",
     "text": [
      "100%|██████████| 487/487 [00:00<00:00, 5925.17it/s]\n",
      "<ipython-input-14-c9980b3e19fb>:33: FutureWarning: Indexing with multiple keys (implicitly converted to a tuple of keys) will be deprecated, use a list instead.\n",
      "  test_mean = resdf.groupby(groupby_cols)['base_train', 'IOD_ERM', 'OOD_ERM', 'irm_train', 'IOD_IRM', 'OOD_IRM'].mean()\n",
      "<ipython-input-14-c9980b3e19fb>:34: FutureWarning: Indexing with multiple keys (implicitly converted to a tuple of keys) will be deprecated, use a list instead.\n",
      "  test_std = resdf.groupby(groupby_cols)['base_train', 'IOD_ERM', 'OOD_ERM', 'irm_train', 'IOD_IRM', 'OOD_IRM'].std()\n"
     ]
    }
   ],
   "source": [
    "'Loads all the results into a central dataframe'\n",
    "\n",
    "resdir = '/YOUR/RESULTS/DIR/HERE' \n",
    "resdf = []\n",
    "\n",
    "for f in tqdm(os.listdir(resdir)): \n",
    "    if f.split('_')[0].isdigit() and f.split('_')[1] == 'baseline.pkl':  \n",
    "#       Load results data into memory\n",
    "        try:\n",
    "            base_data = pickle.load(open(join(resdir, f), 'rb'))\n",
    "            trt_data = pickle.load(open(join(resdir, '{}_{}'.format(f.split('_')[0], 'irm.pkl')), 'rb'))\n",
    "        except:\n",
    "            raise Exception('One or more results files for run is broken')\n",
    "        \n",
    "        #Construct entry in dataframe \n",
    "        entry = [base_data['id']['params']['seed'], base_data['id']['params']['env_id'], \\\n",
    "                  base_data['id']['params']['sens_att'], base_data['id']['params']['word_encoding'], \\\n",
    "                 base_data['id']['params']['tox_thresh'], base_data['id']['params']['explicit_sa'], \\\n",
    "                 (np.mean(base_data['results']['ACC']['train'])*100), (np.mean(base_data['results']['ACC']['val'])*100), \\\n",
    "                 (base_data['results']['ACC']['test']*100)]\n",
    "        entry += [(np.mean(trt_data['results']['ACC']['train'])*100), (np.mean(trt_data['results']['ACC']['val'])*100), (trt_data['results']['ACC']['test']*100)]\n",
    "        entry += [f.split('_')[0]]\n",
    "        resdf.append(entry)\n",
    "\n",
    "# Format the dataframe\n",
    "resdf = pd.DataFrame(resdf)\n",
    "resdf.columns = ['seed', 'env_splits', 'SA', 'word_encoding', 'tox_thresh', 'explicit_sa', \\\n",
    "                 'base_train', 'IOD_ERM', 'OOD_ERM', 'irm_train', 'IOD_IRM', 'OOD_IRM', 'id']\n",
    "resdf['SA'] = resdf['SA'].apply(lambda x: 'LGBTQ' if x == 'new_LGBTQ' else ('Black' if x == 'black' else ('Muslim' if x == 'muslim' else ('NeuroDiv' if x == 'mental' else x))))                                 \n",
    "resdf['word_encoding'] = resdf['word_encoding'].apply(lambda x: 'EmbedMean' if x == 'embed_mean' else ('EmbedSum' if x == 'embed_sum' else x))\n",
    "\n",
    "groupby_cols = ['SA', 'env_splits', 'word_encoding', 'tox_thresh']\n",
    "test_mean = resdf.groupby(groupby_cols)['base_train', 'IOD_ERM', 'OOD_ERM', 'irm_train', 'IOD_IRM', 'OOD_IRM'].mean()\n",
    "test_std = resdf.groupby(groupby_cols)['base_train', 'IOD_ERM', 'OOD_ERM', 'irm_train', 'IOD_IRM', 'OOD_IRM'].std()\n",
    "assert (set(test_mean.columns) ^ set(test_mean.columns) == set()) and  (set(test_std.columns) ^ set(test_std.columns) == set())\n",
    "test_full = test_mean.applymap(lambda x: \"{0:01.1f}\".format(x)) + test_std.applymap(lambda x: '  {}  '.format('- ') +\"{0:01.1f}\".format(x))"
   ]
  },
  {
   "cell_type": "markdown",
   "metadata": {},
   "source": [
    "# Generate Table 1"
   ]
  },
  {
   "cell_type": "code",
   "execution_count": 15,
   "metadata": {
    "ExecuteTime": {
     "end_time": "2021-09-09T17:31:19.141107Z",
     "start_time": "2021-09-09T17:31:19.110467Z"
    }
   },
   "outputs": [
    {
     "data": {
      "text/html": [
       "<div>\n",
       "<style scoped>\n",
       "    .dataframe tbody tr th:only-of-type {\n",
       "        vertical-align: middle;\n",
       "    }\n",
       "\n",
       "    .dataframe tbody tr th {\n",
       "        vertical-align: top;\n",
       "    }\n",
       "\n",
       "    .dataframe thead tr th {\n",
       "        text-align: left;\n",
       "    }\n",
       "\n",
       "    .dataframe thead tr:last-of-type th {\n",
       "        text-align: right;\n",
       "    }\n",
       "</style>\n",
       "<table border=\"1\" class=\"dataframe\">\n",
       "  <thead>\n",
       "    <tr>\n",
       "      <th></th>\n",
       "      <th colspan=\"2\" halign=\"left\">IOD</th>\n",
       "      <th colspan=\"2\" halign=\"left\">OOD</th>\n",
       "    </tr>\n",
       "    <tr>\n",
       "      <th></th>\n",
       "      <th>ERM</th>\n",
       "      <th>IRM</th>\n",
       "      <th>ERM</th>\n",
       "      <th>IRM</th>\n",
       "    </tr>\n",
       "    <tr>\n",
       "      <th>SA</th>\n",
       "      <th></th>\n",
       "      <th></th>\n",
       "      <th></th>\n",
       "      <th></th>\n",
       "    </tr>\n",
       "  </thead>\n",
       "  <tbody>\n",
       "    <tr>\n",
       "      <th>Black</th>\n",
       "      <td>85.5  -   0.5</td>\n",
       "      <td>79.9  -   1.3</td>\n",
       "      <td>48.8  -   0.6</td>\n",
       "      <td>58.5  -   2.7</td>\n",
       "    </tr>\n",
       "    <tr>\n",
       "      <th>Muslim</th>\n",
       "      <td>85.0  -   0.6</td>\n",
       "      <td>79.0  -   2.9</td>\n",
       "      <td>48.8  -   0.6</td>\n",
       "      <td>60.9  -   2.1</td>\n",
       "    </tr>\n",
       "    <tr>\n",
       "      <th>LGBTQ</th>\n",
       "      <td>84.0  -   0.4</td>\n",
       "      <td>79.9  -   2.0</td>\n",
       "      <td>55.4  -   0.6</td>\n",
       "      <td>61.1  -   3.8</td>\n",
       "    </tr>\n",
       "    <tr>\n",
       "      <th>NeuroDiv</th>\n",
       "      <td>82.5  -   1.2</td>\n",
       "      <td>79.9  -   1.8</td>\n",
       "      <td>62.9  -   1.7</td>\n",
       "      <td>60.2  -   1.6</td>\n",
       "    </tr>\n",
       "  </tbody>\n",
       "</table>\n",
       "</div>"
      ],
      "text/plain": [
       "                    IOD                           OOD               \n",
       "                    ERM            IRM            ERM            IRM\n",
       "SA                                                                  \n",
       "Black     85.5  -   0.5  79.9  -   1.3  48.8  -   0.6  58.5  -   2.7\n",
       "Muslim    85.0  -   0.6  79.0  -   2.9  48.8  -   0.6  60.9  -   2.1\n",
       "LGBTQ     84.0  -   0.4  79.9  -   2.0  55.4  -   0.6  61.1  -   3.8\n",
       "NeuroDiv  82.5  -   1.2  79.9  -   1.8  62.9  -   1.7  60.2  -   1.6"
      ]
     },
     "execution_count": 15,
     "metadata": {},
     "output_type": "execute_result"
    }
   ],
   "source": [
    "# Make dataframe copy  \n",
    "single = resdf.copy()\n",
    "single = single[(single['word_encoding'] == 'sbert') & (single['explicit_sa'] == 0)]\n",
    "    \n",
    "#Generate table\n",
    "single_groupby_cols = ['SA']\n",
    "single_res_cols = ['IOD_ERM', 'IOD_IRM', 'OOD_ERM', 'OOD_IRM']\n",
    "single_full = gen_final_table(single, single_groupby_cols, single_res_cols, {'SA': ['Black', 'Muslim', 'LGBTQ', 'NeuroDiv']})\n",
    "\n",
    "MULTINDEX = True\n",
    "if MULTINDEX:\n",
    "    single_full.columns = pd.MultiIndex.from_product([['IOD', 'OOD'], ['ERM', 'IRM'],])\n",
    "\n",
    "single_full.head(100)"
   ]
  },
  {
   "cell_type": "markdown",
   "metadata": {},
   "source": [
    "# Generate Table 2"
   ]
  },
  {
   "cell_type": "code",
   "execution_count": 16,
   "metadata": {
    "ExecuteTime": {
     "end_time": "2021-09-09T17:31:20.261359Z",
     "start_time": "2021-09-09T17:31:20.180543Z"
    },
    "scrolled": true
   },
   "outputs": [
    {
     "data": {
      "text/html": [
       "<div>\n",
       "<style scoped>\n",
       "    .dataframe tbody tr th:only-of-type {\n",
       "        vertical-align: middle;\n",
       "    }\n",
       "\n",
       "    .dataframe tbody tr th {\n",
       "        vertical-align: top;\n",
       "    }\n",
       "\n",
       "    .dataframe thead tr th {\n",
       "        text-align: left;\n",
       "    }\n",
       "\n",
       "    .dataframe thead tr:last-of-type th {\n",
       "        text-align: right;\n",
       "    }\n",
       "</style>\n",
       "<table border=\"1\" class=\"dataframe\">\n",
       "  <thead>\n",
       "    <tr>\n",
       "      <th></th>\n",
       "      <th colspan=\"2\" halign=\"left\">dEO</th>\n",
       "      <th colspan=\"2\" halign=\"left\">dDP</th>\n",
       "    </tr>\n",
       "    <tr>\n",
       "      <th></th>\n",
       "      <th>ERM</th>\n",
       "      <th>IRM</th>\n",
       "      <th>ERM</th>\n",
       "      <th>IRM</th>\n",
       "    </tr>\n",
       "    <tr>\n",
       "      <th>SA</th>\n",
       "      <th></th>\n",
       "      <th></th>\n",
       "      <th></th>\n",
       "      <th></th>\n",
       "    </tr>\n",
       "  </thead>\n",
       "  <tbody>\n",
       "    <tr>\n",
       "      <th>Black</th>\n",
       "      <td>49.4  -   1.8</td>\n",
       "      <td>29.2  -   4.5</td>\n",
       "      <td>19.6  -   1.3</td>\n",
       "      <td>5.3  -   3.1</td>\n",
       "    </tr>\n",
       "    <tr>\n",
       "      <th>Muslim</th>\n",
       "      <td>47.7  -   0.9</td>\n",
       "      <td>24.3  -   4.9</td>\n",
       "      <td>18.9  -   1.1</td>\n",
       "      <td>8.8  -   5.1</td>\n",
       "    </tr>\n",
       "    <tr>\n",
       "      <th>LGBTQ</th>\n",
       "      <td>38.8  -   1.7</td>\n",
       "      <td>25.9  -   7.4</td>\n",
       "      <td>5.4  -   0.6</td>\n",
       "      <td>10.6  -   4.8</td>\n",
       "    </tr>\n",
       "    <tr>\n",
       "      <th>NeuroDiv</th>\n",
       "      <td>26.8  -   3.3</td>\n",
       "      <td>27.2  -   1.2</td>\n",
       "      <td>11.0  -   3.8</td>\n",
       "      <td>6.5  -   2.9</td>\n",
       "    </tr>\n",
       "  </tbody>\n",
       "</table>\n",
       "</div>"
      ],
      "text/plain": [
       "                    dEO                           dDP               \n",
       "                    ERM            IRM            ERM            IRM\n",
       "SA                                                                  \n",
       "Black     49.4  -   1.8  29.2  -   4.5  19.6  -   1.3   5.3  -   3.1\n",
       "Muslim    47.7  -   0.9  24.3  -   4.9  18.9  -   1.1   8.8  -   5.1\n",
       "LGBTQ     38.8  -   1.7  25.9  -   7.4   5.4  -   0.6  10.6  -   4.8\n",
       "NeuroDiv  26.8  -   3.3  27.2  -   1.2  11.0  -   3.8   6.5  -   2.9"
      ]
     },
     "execution_count": 16,
     "metadata": {},
     "output_type": "execute_result"
    }
   ],
   "source": [
    "# Make dataframe copy  \n",
    "single = resdf.copy()\n",
    "single = single[(single['word_encoding'] == 'sbert') & (single['explicit_sa'] == 0)]\n",
    "\n",
    "\n",
    "#Generate fairness metrics \n",
    "for index, row in single.iterrows():\n",
    "    base_raw = pickle.load(open(join(resdir, '{}_baseline.pkl'.format(row['id'])), 'rb'))['raw']\n",
    "    irm_raw = pickle.load(open(join(resdir, '{}_irm.pkl'.format(row['id'])), 'rb'))['raw']\n",
    "\n",
    "    #Compute vals\n",
    "    single.loc[index, 'base_dEO'] = 0.5 * (false_pos(base_raw) + false_neg(base_raw))\n",
    "    single.loc[index, 'irm_dEO'] = 0.5 *(false_pos(irm_raw) + false_neg(irm_raw))\n",
    "    single.loc[index, 'base_DP'] = pos_pred(base_raw)\n",
    "    single.loc[index, 'irm_DP'] = pos_pred(irm_raw)\n",
    "\n",
    "#Generate table\n",
    "single_groupby_cols = ['SA']\n",
    "single_res_cols = ['base_dEO', 'irm_dEO', 'base_DP', 'irm_DP']\n",
    "single_full = gen_final_table(single, single_groupby_cols, single_res_cols, {'SA': ['Black', 'Muslim', 'LGBTQ', 'NeuroDiv']})\n",
    "MULTINDEX = True\n",
    "if MULTINDEX:\n",
    "    single_full.columns = pd.MultiIndex.from_product([['dEO', 'dDP'], ['ERM', 'IRM'],])\n",
    "\n",
    "single_full.head(100)"
   ]
  },
  {
   "cell_type": "markdown",
   "metadata": {},
   "source": [
    "# Generate Table 3"
   ]
  },
  {
   "cell_type": "code",
   "execution_count": 17,
   "metadata": {
    "ExecuteTime": {
     "end_time": "2021-09-09T17:31:20.987929Z",
     "start_time": "2021-09-09T17:31:20.930625Z"
    },
    "scrolled": true
   },
   "outputs": [
    {
     "name": "stderr",
     "output_type": "stream",
     "text": [
      "<ipython-input-3-809332abdf44>:8: SettingWithCopyWarning: \n",
      "A value is trying to be set on a copy of a slice from a DataFrame.\n",
      "Try using .loc[row_indexer,col_indexer] = value instead\n",
      "\n",
      "See the caveats in the documentation: https://pandas.pydata.org/pandas-docs/stable/user_guide/indexing.html#returning-a-view-versus-a-copy\n",
      "  df[c] = df[c].astype(category)\n"
     ]
    },
    {
     "data": {
      "text/html": [
       "<div>\n",
       "<style scoped>\n",
       "    .dataframe tbody tr th:only-of-type {\n",
       "        vertical-align: middle;\n",
       "    }\n",
       "\n",
       "    .dataframe tbody tr th {\n",
       "        vertical-align: top;\n",
       "    }\n",
       "\n",
       "    .dataframe thead tr th {\n",
       "        text-align: left;\n",
       "    }\n",
       "\n",
       "    .dataframe thead tr:last-of-type th {\n",
       "        text-align: right;\n",
       "    }\n",
       "</style>\n",
       "<table border=\"1\" class=\"dataframe\">\n",
       "  <thead>\n",
       "    <tr>\n",
       "      <th></th>\n",
       "      <th colspan=\"2\" halign=\"left\">ERM</th>\n",
       "      <th colspan=\"2\" halign=\"left\">IRM</th>\n",
       "    </tr>\n",
       "    <tr>\n",
       "      <th></th>\n",
       "      <th>non-explicit</th>\n",
       "      <th>explicit</th>\n",
       "      <th>non-explicit</th>\n",
       "      <th>explicit</th>\n",
       "    </tr>\n",
       "    <tr>\n",
       "      <th>SA</th>\n",
       "      <th></th>\n",
       "      <th></th>\n",
       "      <th></th>\n",
       "      <th></th>\n",
       "    </tr>\n",
       "  </thead>\n",
       "  <tbody>\n",
       "    <tr>\n",
       "      <th>Black</th>\n",
       "      <td>48.8  -   0.6</td>\n",
       "      <td>39.6  -   1.2</td>\n",
       "      <td>58.5  -   2.7</td>\n",
       "      <td>57.6  -   2.1</td>\n",
       "    </tr>\n",
       "    <tr>\n",
       "      <th>Muslim</th>\n",
       "      <td>48.8  -   0.6</td>\n",
       "      <td>40.4  -   0.7</td>\n",
       "      <td>60.9  -   2.1</td>\n",
       "      <td>59.4  -   1.8</td>\n",
       "    </tr>\n",
       "    <tr>\n",
       "      <th>LGBTQ</th>\n",
       "      <td>55.4  -   0.6</td>\n",
       "      <td>40.9  -   0.6</td>\n",
       "      <td>61.1  -   3.8</td>\n",
       "      <td>58.2  -   3.3</td>\n",
       "    </tr>\n",
       "    <tr>\n",
       "      <th>NeuroDiv</th>\n",
       "      <td>62.9  -   1.7</td>\n",
       "      <td>46.5  -   1.2</td>\n",
       "      <td>60.2  -   1.6</td>\n",
       "      <td>56.6  -   2.8</td>\n",
       "    </tr>\n",
       "  </tbody>\n",
       "</table>\n",
       "</div>"
      ],
      "text/plain": [
       "                    ERM                           IRM               \n",
       "           non-explicit       explicit   non-explicit       explicit\n",
       "SA                                                                  \n",
       "Black     48.8  -   0.6  39.6  -   1.2  58.5  -   2.7  57.6  -   2.1\n",
       "Muslim    48.8  -   0.6  40.4  -   0.7  60.9  -   2.1  59.4  -   1.8\n",
       "LGBTQ     55.4  -   0.6  40.9  -   0.6  61.1  -   3.8  58.2  -   3.3\n",
       "NeuroDiv  62.9  -   1.7  46.5  -   1.2  60.2  -   1.6  56.6  -   2.8"
      ]
     },
     "execution_count": 17,
     "metadata": {},
     "output_type": "execute_result"
    }
   ],
   "source": [
    "# Make Dataframe Copy\n",
    "single = resdf.copy()\n",
    "single = single[(single['word_encoding'] == 'sbert')]\n",
    "\n",
    "# Setup Table\n",
    "single_groupby_cols = ['SA', 'explicit_sa']\n",
    "single_res_cols = ['OOD_ERM', 'OOD_IRM']\n",
    "\n",
    "proc_envs = []\n",
    "for p in [single[single['explicit_sa'] == 0], single[single['explicit_sa'] == 1]]:\n",
    "    proc_envs.append(gen_final_table(p, single_groupby_cols, single_res_cols, {'SA': ['Black', 'Muslim', 'LGBTQ', 'NeuroDiv']}))\n",
    "proc_envs[0].columns, proc_envs[1].columns = ['OOD_ERM_ESA0', 'OOD_IRM_ESA0'], ['OOD_ERM_ESA1', 'OOD_IRM_ESA1']\n",
    "proc_envs[0].index, proc_envs[1].index = proc_envs[0].index.droplevel(level=1), proc_envs[1].index.droplevel(level=1)\n",
    "\n",
    "single_full = proc_envs[0].join(proc_envs[1], how='outer')\n",
    "single_full = single_full[['OOD_ERM_ESA0', 'OOD_ERM_ESA1', 'OOD_IRM_ESA0', 'OOD_IRM_ESA1']]\n",
    "single_full.columns = pd.MultiIndex.from_product([['ERM', 'IRM'], ['non-explicit', 'explicit'],])\n",
    "\n",
    "single_full.head(100)"
   ]
  },
  {
   "cell_type": "markdown",
   "metadata": {},
   "source": [
    "# Generate Table 4"
   ]
  },
  {
   "cell_type": "code",
   "execution_count": 18,
   "metadata": {
    "ExecuteTime": {
     "end_time": "2021-09-09T17:31:21.995130Z",
     "start_time": "2021-09-09T17:31:21.964567Z"
    }
   },
   "outputs": [
    {
     "data": {
      "text/html": [
       "<div>\n",
       "<style scoped>\n",
       "    .dataframe tbody tr th:only-of-type {\n",
       "        vertical-align: middle;\n",
       "    }\n",
       "\n",
       "    .dataframe tbody tr th {\n",
       "        vertical-align: top;\n",
       "    }\n",
       "\n",
       "    .dataframe thead tr th {\n",
       "        text-align: left;\n",
       "    }\n",
       "\n",
       "    .dataframe thead tr:last-of-type th {\n",
       "        text-align: right;\n",
       "    }\n",
       "</style>\n",
       "<table border=\"1\" class=\"dataframe\">\n",
       "  <thead>\n",
       "    <tr>\n",
       "      <th></th>\n",
       "      <th colspan=\"2\" halign=\"left\">IOD</th>\n",
       "      <th colspan=\"2\" halign=\"left\">OOD</th>\n",
       "    </tr>\n",
       "    <tr>\n",
       "      <th></th>\n",
       "      <th>ERM</th>\n",
       "      <th>IRM</th>\n",
       "      <th>ERM</th>\n",
       "      <th>IRM</th>\n",
       "    </tr>\n",
       "    <tr>\n",
       "      <th>word_encoding</th>\n",
       "      <th></th>\n",
       "      <th></th>\n",
       "      <th></th>\n",
       "      <th></th>\n",
       "    </tr>\n",
       "  </thead>\n",
       "  <tbody>\n",
       "    <tr>\n",
       "      <th>EmbedSum</th>\n",
       "      <td>84.3  -   0.9</td>\n",
       "      <td>79.7  -   1.4</td>\n",
       "      <td>56.2  -   2.5</td>\n",
       "      <td>62.0  -   2.4</td>\n",
       "    </tr>\n",
       "    <tr>\n",
       "      <th>EmbedMean</th>\n",
       "      <td>85.4  -   1.0</td>\n",
       "      <td>49.7  -   1.3</td>\n",
       "      <td>11.9  -   0.4</td>\n",
       "      <td>50.0  -   0.4</td>\n",
       "    </tr>\n",
       "  </tbody>\n",
       "</table>\n",
       "</div>"
      ],
      "text/plain": [
       "                         IOD                           OOD               \n",
       "                         ERM            IRM            ERM            IRM\n",
       "word_encoding                                                            \n",
       "EmbedSum       84.3  -   0.9  79.7  -   1.4  56.2  -   2.5  62.0  -   2.4\n",
       "EmbedMean      85.4  -   1.0  49.7  -   1.3  11.9  -   0.4  50.0  -   0.4"
      ]
     },
     "execution_count": 18,
     "metadata": {},
     "output_type": "execute_result"
    }
   ],
   "source": [
    "# Make dataframe copy  \n",
    "single = resdf.copy()\n",
    "single = single[ ((single['word_encoding'] == 'EmbedSum') | (single['word_encoding'] == 'EmbedMean'))]\n",
    "single = single[(single['explicit_sa'] == 1)] \n",
    "\n",
    "# Setup Table\n",
    "single_groupby_cols = ['word_encoding']\n",
    "single_res_cols = ['IOD_ERM', 'IOD_IRM', 'OOD_ERM', 'OOD_IRM']\n",
    "single_full = gen_final_table(single, single_groupby_cols, single_res_cols, {'word_encoding': ['EmbedSum', 'EmbedMean']})\n",
    "\n",
    "MULTINDEX = True\n",
    "if MULTINDEX:\n",
    "    single_full.columns = pd.MultiIndex.from_product([['IOD', 'OOD'], ['ERM', 'IRM'],])\n",
    "\n",
    "single_full.head(100)"
   ]
  },
  {
   "cell_type": "code",
   "execution_count": null,
   "metadata": {},
   "outputs": [],
   "source": []
  }
 ],
 "metadata": {
  "hide_input": false,
  "kernelspec": {
   "display_name": "Python 3",
   "language": "python",
   "name": "python3"
  },
  "language_info": {
   "codemirror_mode": {
    "name": "ipython",
    "version": 3
   },
   "file_extension": ".py",
   "mimetype": "text/x-python",
   "name": "python",
   "nbconvert_exporter": "python",
   "pygments_lexer": "ipython3",
   "version": "3.8.3"
  },
  "toc": {
   "base_numbering": 1,
   "nav_menu": {},
   "number_sections": true,
   "sideBar": true,
   "skip_h1_title": false,
   "title_cell": "Table of Contents",
   "title_sidebar": "Contents",
   "toc_cell": false,
   "toc_position": {},
   "toc_section_display": true,
   "toc_window_display": false
  },
  "varInspector": {
   "cols": {
    "lenName": 16,
    "lenType": 16,
    "lenVar": 40
   },
   "kernels_config": {
    "python": {
     "delete_cmd_postfix": "",
     "delete_cmd_prefix": "del ",
     "library": "var_list.py",
     "varRefreshCmd": "print(var_dic_list())"
    },
    "r": {
     "delete_cmd_postfix": ") ",
     "delete_cmd_prefix": "rm(",
     "library": "var_list.r",
     "varRefreshCmd": "cat(var_dic_list()) "
    }
   },
   "types_to_exclude": [
    "module",
    "function",
    "builtin_function_or_method",
    "instance",
    "_Feature"
   ],
   "window_display": false
  }
 },
 "nbformat": 4,
 "nbformat_minor": 4
}
